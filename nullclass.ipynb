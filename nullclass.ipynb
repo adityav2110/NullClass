{
 "cells": [
  {
   "cell_type": "markdown",
   "metadata": {},
   "source": [
    "NUMPY"
   ]
  },
  {
   "cell_type": "code",
   "execution_count": 1,
   "metadata": {},
   "outputs": [],
   "source": [
    "import numpy as np"
   ]
  },
  {
   "cell_type": "code",
   "execution_count": 2,
   "metadata": {},
   "outputs": [],
   "source": [
    "myarr=np.array([3,2,6,5])"
   ]
  },
  {
   "cell_type": "code",
   "execution_count": 3,
   "metadata": {},
   "outputs": [
    {
     "data": {
      "text/plain": [
       "array([3, 2, 6, 5])"
      ]
     },
     "execution_count": 3,
     "metadata": {},
     "output_type": "execute_result"
    }
   ],
   "source": [
    "myarr"
   ]
  },
  {
   "cell_type": "code",
   "execution_count": 4,
   "metadata": {},
   "outputs": [],
   "source": [
    "zero=np.zeros((2,5))"
   ]
  },
  {
   "cell_type": "code",
   "execution_count": 5,
   "metadata": {},
   "outputs": [
    {
     "data": {
      "text/plain": [
       "array([[0., 0., 0., 0., 0.],\n",
       "       [0., 0., 0., 0., 0.]])"
      ]
     },
     "execution_count": 5,
     "metadata": {},
     "output_type": "execute_result"
    }
   ],
   "source": [
    "zero"
   ]
  },
  {
   "cell_type": "code",
   "execution_count": 6,
   "metadata": {},
   "outputs": [],
   "source": [
    "rng=np.arange(15)"
   ]
  },
  {
   "cell_type": "code",
   "execution_count": 7,
   "metadata": {},
   "outputs": [
    {
     "data": {
      "text/plain": [
       "array([ 0,  1,  2,  3,  4,  5,  6,  7,  8,  9, 10, 11, 12, 13, 14])"
      ]
     },
     "execution_count": 7,
     "metadata": {},
     "output_type": "execute_result"
    }
   ],
   "source": [
    "rng"
   ]
  },
  {
   "cell_type": "code",
   "execution_count": 8,
   "metadata": {},
   "outputs": [],
   "source": [
    "lpspace=np.linspace(1,5,10)"
   ]
  },
  {
   "cell_type": "code",
   "execution_count": 9,
   "metadata": {},
   "outputs": [
    {
     "data": {
      "text/plain": [
       "array([1.        , 1.44444444, 1.88888889, 2.33333333, 2.77777778,\n",
       "       3.22222222, 3.66666667, 4.11111111, 4.55555556, 5.        ])"
      ]
     },
     "execution_count": 9,
     "metadata": {},
     "output_type": "execute_result"
    }
   ],
   "source": [
    "lpspace"
   ]
  },
  {
   "cell_type": "code",
   "execution_count": 10,
   "metadata": {},
   "outputs": [],
   "source": [
    "ide=np.identity(15)"
   ]
  },
  {
   "cell_type": "code",
   "execution_count": 11,
   "metadata": {},
   "outputs": [
    {
     "data": {
      "text/plain": [
       "array([[1., 0., 0., 0., 0., 0., 0., 0., 0., 0., 0., 0., 0., 0., 0.],\n",
       "       [0., 1., 0., 0., 0., 0., 0., 0., 0., 0., 0., 0., 0., 0., 0.],\n",
       "       [0., 0., 1., 0., 0., 0., 0., 0., 0., 0., 0., 0., 0., 0., 0.],\n",
       "       [0., 0., 0., 1., 0., 0., 0., 0., 0., 0., 0., 0., 0., 0., 0.],\n",
       "       [0., 0., 0., 0., 1., 0., 0., 0., 0., 0., 0., 0., 0., 0., 0.],\n",
       "       [0., 0., 0., 0., 0., 1., 0., 0., 0., 0., 0., 0., 0., 0., 0.],\n",
       "       [0., 0., 0., 0., 0., 0., 1., 0., 0., 0., 0., 0., 0., 0., 0.],\n",
       "       [0., 0., 0., 0., 0., 0., 0., 1., 0., 0., 0., 0., 0., 0., 0.],\n",
       "       [0., 0., 0., 0., 0., 0., 0., 0., 1., 0., 0., 0., 0., 0., 0.],\n",
       "       [0., 0., 0., 0., 0., 0., 0., 0., 0., 1., 0., 0., 0., 0., 0.],\n",
       "       [0., 0., 0., 0., 0., 0., 0., 0., 0., 0., 1., 0., 0., 0., 0.],\n",
       "       [0., 0., 0., 0., 0., 0., 0., 0., 0., 0., 0., 1., 0., 0., 0.],\n",
       "       [0., 0., 0., 0., 0., 0., 0., 0., 0., 0., 0., 0., 1., 0., 0.],\n",
       "       [0., 0., 0., 0., 0., 0., 0., 0., 0., 0., 0., 0., 0., 1., 0.],\n",
       "       [0., 0., 0., 0., 0., 0., 0., 0., 0., 0., 0., 0., 0., 0., 1.]])"
      ]
     },
     "execution_count": 11,
     "metadata": {},
     "output_type": "execute_result"
    }
   ],
   "source": [
    "ide"
   ]
  },
  {
   "cell_type": "code",
   "execution_count": 12,
   "metadata": {},
   "outputs": [
    {
     "data": {
      "text/plain": [
       "array([[3],\n",
       "       [2],\n",
       "       [6],\n",
       "       [5]])"
      ]
     },
     "execution_count": 12,
     "metadata": {},
     "output_type": "execute_result"
    }
   ],
   "source": [
    "myarr.reshape(4,1)"
   ]
  },
  {
   "cell_type": "code",
   "execution_count": 14,
   "metadata": {},
   "outputs": [
    {
     "data": {
      "text/plain": [
       "(4,)"
      ]
     },
     "execution_count": 14,
     "metadata": {},
     "output_type": "execute_result"
    }
   ],
   "source": [
    "myarr.shape"
   ]
  },
  {
   "cell_type": "markdown",
   "metadata": {},
   "source": [
    "PANDAS"
   ]
  },
  {
   "cell_type": "code",
   "execution_count": 15,
   "metadata": {},
   "outputs": [],
   "source": [
    "import pandas as pd"
   ]
  },
  {
   "cell_type": "code",
   "execution_count": 16,
   "metadata": {},
   "outputs": [],
   "source": [
    "dict1={\"name\":[\"rohan\", \"seema\", \"mahesh\",\"shruti\"],\n",
    "       \"marks\":[90,80,70,60],\n",
    "       \"city\":[\"pune\",\"mumbai\",\"nagpur\",\"nashik\"]}"
   ]
  },
  {
   "cell_type": "code",
   "execution_count": 20,
   "metadata": {},
   "outputs": [],
   "source": [
    "df=pd.DataFrame(dict1)"
   ]
  },
  {
   "cell_type": "code",
   "execution_count": 21,
   "metadata": {},
   "outputs": [
    {
     "name": "stdout",
     "output_type": "stream",
     "text": [
      "     name  marks    city\n",
      "0   rohan     90    pune\n",
      "1   seema     80  mumbai\n",
      "2  mahesh     70  nagpur\n",
      "3  shruti     60  nashik\n"
     ]
    }
   ],
   "source": [
    "print(df)"
   ]
  },
  {
   "cell_type": "code",
   "execution_count": 22,
   "metadata": {},
   "outputs": [],
   "source": [
    "df.index=[1,2,3,4]"
   ]
  },
  {
   "cell_type": "code",
   "execution_count": 23,
   "metadata": {},
   "outputs": [
    {
     "data": {
      "text/html": [
       "<div>\n",
       "<style scoped>\n",
       "    .dataframe tbody tr th:only-of-type {\n",
       "        vertical-align: middle;\n",
       "    }\n",
       "\n",
       "    .dataframe tbody tr th {\n",
       "        vertical-align: top;\n",
       "    }\n",
       "\n",
       "    .dataframe thead th {\n",
       "        text-align: right;\n",
       "    }\n",
       "</style>\n",
       "<table border=\"1\" class=\"dataframe\">\n",
       "  <thead>\n",
       "    <tr style=\"text-align: right;\">\n",
       "      <th></th>\n",
       "      <th>name</th>\n",
       "      <th>marks</th>\n",
       "      <th>city</th>\n",
       "    </tr>\n",
       "  </thead>\n",
       "  <tbody>\n",
       "    <tr>\n",
       "      <th>1</th>\n",
       "      <td>rohan</td>\n",
       "      <td>90</td>\n",
       "      <td>pune</td>\n",
       "    </tr>\n",
       "    <tr>\n",
       "      <th>2</th>\n",
       "      <td>seema</td>\n",
       "      <td>80</td>\n",
       "      <td>mumbai</td>\n",
       "    </tr>\n",
       "    <tr>\n",
       "      <th>3</th>\n",
       "      <td>mahesh</td>\n",
       "      <td>70</td>\n",
       "      <td>nagpur</td>\n",
       "    </tr>\n",
       "    <tr>\n",
       "      <th>4</th>\n",
       "      <td>shruti</td>\n",
       "      <td>60</td>\n",
       "      <td>nashik</td>\n",
       "    </tr>\n",
       "  </tbody>\n",
       "</table>\n",
       "</div>"
      ],
      "text/plain": [
       "     name  marks    city\n",
       "1   rohan     90    pune\n",
       "2   seema     80  mumbai\n",
       "3  mahesh     70  nagpur\n",
       "4  shruti     60  nashik"
      ]
     },
     "execution_count": 23,
     "metadata": {},
     "output_type": "execute_result"
    }
   ],
   "source": [
    "df"
   ]
  },
  {
   "cell_type": "code",
   "execution_count": 24,
   "metadata": {},
   "outputs": [],
   "source": [
    "ser=pd.Series(np.random.rand(20))"
   ]
  },
  {
   "cell_type": "code",
   "execution_count": 25,
   "metadata": {},
   "outputs": [
    {
     "data": {
      "text/plain": [
       "0     0.333461\n",
       "1     0.189026\n",
       "2     0.277052\n",
       "3     0.681609\n",
       "4     0.128141\n",
       "5     0.364046\n",
       "6     0.762825\n",
       "7     0.410376\n",
       "8     0.303826\n",
       "9     0.252926\n",
       "10    0.283324\n",
       "11    0.290176\n",
       "12    0.646779\n",
       "13    0.501889\n",
       "14    0.736450\n",
       "15    0.679057\n",
       "16    0.381678\n",
       "17    0.616101\n",
       "18    0.811798\n",
       "19    0.724390\n",
       "dtype: float64"
      ]
     },
     "execution_count": 25,
     "metadata": {},
     "output_type": "execute_result"
    }
   ],
   "source": [
    "ser"
   ]
  },
  {
   "cell_type": "code",
   "execution_count": 26,
   "metadata": {},
   "outputs": [
    {
     "data": {
      "text/plain": [
       "pandas.core.series.Series"
      ]
     },
     "execution_count": 26,
     "metadata": {},
     "output_type": "execute_result"
    }
   ],
   "source": [
    "type(ser)"
   ]
  },
  {
   "cell_type": "code",
   "execution_count": 27,
   "metadata": {},
   "outputs": [],
   "source": [
    "newdf=pd.DataFrame(np.random.rand(334,5), index=np.arange(334))"
   ]
  },
  {
   "cell_type": "code",
   "execution_count": 28,
   "metadata": {},
   "outputs": [
    {
     "data": {
      "text/html": [
       "<div>\n",
       "<style scoped>\n",
       "    .dataframe tbody tr th:only-of-type {\n",
       "        vertical-align: middle;\n",
       "    }\n",
       "\n",
       "    .dataframe tbody tr th {\n",
       "        vertical-align: top;\n",
       "    }\n",
       "\n",
       "    .dataframe thead th {\n",
       "        text-align: right;\n",
       "    }\n",
       "</style>\n",
       "<table border=\"1\" class=\"dataframe\">\n",
       "  <thead>\n",
       "    <tr style=\"text-align: right;\">\n",
       "      <th></th>\n",
       "      <th>0</th>\n",
       "      <th>1</th>\n",
       "      <th>2</th>\n",
       "      <th>3</th>\n",
       "      <th>4</th>\n",
       "    </tr>\n",
       "  </thead>\n",
       "  <tbody>\n",
       "    <tr>\n",
       "      <th>0</th>\n",
       "      <td>0.938592</td>\n",
       "      <td>0.601570</td>\n",
       "      <td>0.111307</td>\n",
       "      <td>0.248837</td>\n",
       "      <td>0.371304</td>\n",
       "    </tr>\n",
       "    <tr>\n",
       "      <th>1</th>\n",
       "      <td>0.181812</td>\n",
       "      <td>0.855285</td>\n",
       "      <td>0.501953</td>\n",
       "      <td>0.969116</td>\n",
       "      <td>0.396190</td>\n",
       "    </tr>\n",
       "    <tr>\n",
       "      <th>2</th>\n",
       "      <td>0.388362</td>\n",
       "      <td>0.998774</td>\n",
       "      <td>0.980512</td>\n",
       "      <td>0.749657</td>\n",
       "      <td>0.836590</td>\n",
       "    </tr>\n",
       "    <tr>\n",
       "      <th>3</th>\n",
       "      <td>0.154885</td>\n",
       "      <td>0.349005</td>\n",
       "      <td>0.400578</td>\n",
       "      <td>0.190702</td>\n",
       "      <td>0.048009</td>\n",
       "    </tr>\n",
       "    <tr>\n",
       "      <th>4</th>\n",
       "      <td>0.150009</td>\n",
       "      <td>0.294122</td>\n",
       "      <td>0.888692</td>\n",
       "      <td>0.904423</td>\n",
       "      <td>0.418416</td>\n",
       "    </tr>\n",
       "    <tr>\n",
       "      <th>...</th>\n",
       "      <td>...</td>\n",
       "      <td>...</td>\n",
       "      <td>...</td>\n",
       "      <td>...</td>\n",
       "      <td>...</td>\n",
       "    </tr>\n",
       "    <tr>\n",
       "      <th>329</th>\n",
       "      <td>0.890846</td>\n",
       "      <td>0.609025</td>\n",
       "      <td>0.648049</td>\n",
       "      <td>0.871640</td>\n",
       "      <td>0.323589</td>\n",
       "    </tr>\n",
       "    <tr>\n",
       "      <th>330</th>\n",
       "      <td>0.653165</td>\n",
       "      <td>0.683662</td>\n",
       "      <td>0.185325</td>\n",
       "      <td>0.506670</td>\n",
       "      <td>0.549307</td>\n",
       "    </tr>\n",
       "    <tr>\n",
       "      <th>331</th>\n",
       "      <td>0.848165</td>\n",
       "      <td>0.895544</td>\n",
       "      <td>0.449027</td>\n",
       "      <td>0.230233</td>\n",
       "      <td>0.959972</td>\n",
       "    </tr>\n",
       "    <tr>\n",
       "      <th>332</th>\n",
       "      <td>0.523848</td>\n",
       "      <td>0.824551</td>\n",
       "      <td>0.772502</td>\n",
       "      <td>0.428748</td>\n",
       "      <td>0.029976</td>\n",
       "    </tr>\n",
       "    <tr>\n",
       "      <th>333</th>\n",
       "      <td>0.828796</td>\n",
       "      <td>0.028096</td>\n",
       "      <td>0.837717</td>\n",
       "      <td>0.154182</td>\n",
       "      <td>0.822582</td>\n",
       "    </tr>\n",
       "  </tbody>\n",
       "</table>\n",
       "<p>334 rows × 5 columns</p>\n",
       "</div>"
      ],
      "text/plain": [
       "            0         1         2         3         4\n",
       "0    0.938592  0.601570  0.111307  0.248837  0.371304\n",
       "1    0.181812  0.855285  0.501953  0.969116  0.396190\n",
       "2    0.388362  0.998774  0.980512  0.749657  0.836590\n",
       "3    0.154885  0.349005  0.400578  0.190702  0.048009\n",
       "4    0.150009  0.294122  0.888692  0.904423  0.418416\n",
       "..        ...       ...       ...       ...       ...\n",
       "329  0.890846  0.609025  0.648049  0.871640  0.323589\n",
       "330  0.653165  0.683662  0.185325  0.506670  0.549307\n",
       "331  0.848165  0.895544  0.449027  0.230233  0.959972\n",
       "332  0.523848  0.824551  0.772502  0.428748  0.029976\n",
       "333  0.828796  0.028096  0.837717  0.154182  0.822582\n",
       "\n",
       "[334 rows x 5 columns]"
      ]
     },
     "execution_count": 28,
     "metadata": {},
     "output_type": "execute_result"
    }
   ],
   "source": [
    "newdf"
   ]
  },
  {
   "cell_type": "code",
   "execution_count": 29,
   "metadata": {},
   "outputs": [
    {
     "data": {
      "text/html": [
       "<div>\n",
       "<style scoped>\n",
       "    .dataframe tbody tr th:only-of-type {\n",
       "        vertical-align: middle;\n",
       "    }\n",
       "\n",
       "    .dataframe tbody tr th {\n",
       "        vertical-align: top;\n",
       "    }\n",
       "\n",
       "    .dataframe thead th {\n",
       "        text-align: right;\n",
       "    }\n",
       "</style>\n",
       "<table border=\"1\" class=\"dataframe\">\n",
       "  <thead>\n",
       "    <tr style=\"text-align: right;\">\n",
       "      <th></th>\n",
       "      <th>0</th>\n",
       "      <th>1</th>\n",
       "      <th>2</th>\n",
       "      <th>3</th>\n",
       "      <th>4</th>\n",
       "    </tr>\n",
       "  </thead>\n",
       "  <tbody>\n",
       "    <tr>\n",
       "      <th>0</th>\n",
       "      <td>0.938592</td>\n",
       "      <td>0.601570</td>\n",
       "      <td>0.111307</td>\n",
       "      <td>0.248837</td>\n",
       "      <td>0.371304</td>\n",
       "    </tr>\n",
       "    <tr>\n",
       "      <th>1</th>\n",
       "      <td>0.181812</td>\n",
       "      <td>0.855285</td>\n",
       "      <td>0.501953</td>\n",
       "      <td>0.969116</td>\n",
       "      <td>0.396190</td>\n",
       "    </tr>\n",
       "    <tr>\n",
       "      <th>2</th>\n",
       "      <td>0.388362</td>\n",
       "      <td>0.998774</td>\n",
       "      <td>0.980512</td>\n",
       "      <td>0.749657</td>\n",
       "      <td>0.836590</td>\n",
       "    </tr>\n",
       "  </tbody>\n",
       "</table>\n",
       "</div>"
      ],
      "text/plain": [
       "          0         1         2         3         4\n",
       "0  0.938592  0.601570  0.111307  0.248837  0.371304\n",
       "1  0.181812  0.855285  0.501953  0.969116  0.396190\n",
       "2  0.388362  0.998774  0.980512  0.749657  0.836590"
      ]
     },
     "execution_count": 29,
     "metadata": {},
     "output_type": "execute_result"
    }
   ],
   "source": [
    "newdf.head(3)"
   ]
  },
  {
   "cell_type": "code",
   "execution_count": 30,
   "metadata": {},
   "outputs": [
    {
     "data": {
      "text/html": [
       "<div>\n",
       "<style scoped>\n",
       "    .dataframe tbody tr th:only-of-type {\n",
       "        vertical-align: middle;\n",
       "    }\n",
       "\n",
       "    .dataframe tbody tr th {\n",
       "        vertical-align: top;\n",
       "    }\n",
       "\n",
       "    .dataframe thead th {\n",
       "        text-align: right;\n",
       "    }\n",
       "</style>\n",
       "<table border=\"1\" class=\"dataframe\">\n",
       "  <thead>\n",
       "    <tr style=\"text-align: right;\">\n",
       "      <th></th>\n",
       "      <th>0</th>\n",
       "      <th>1</th>\n",
       "      <th>2</th>\n",
       "      <th>3</th>\n",
       "      <th>4</th>\n",
       "    </tr>\n",
       "  </thead>\n",
       "  <tbody>\n",
       "    <tr>\n",
       "      <th>0</th>\n",
       "      <td>0.938592</td>\n",
       "      <td>0.601570</td>\n",
       "      <td>0.111307</td>\n",
       "      <td>0.248837</td>\n",
       "      <td>0.371304</td>\n",
       "    </tr>\n",
       "    <tr>\n",
       "      <th>1</th>\n",
       "      <td>0.181812</td>\n",
       "      <td>0.855285</td>\n",
       "      <td>0.501953</td>\n",
       "      <td>0.969116</td>\n",
       "      <td>0.396190</td>\n",
       "    </tr>\n",
       "    <tr>\n",
       "      <th>2</th>\n",
       "      <td>0.388362</td>\n",
       "      <td>0.998774</td>\n",
       "      <td>0.980512</td>\n",
       "      <td>0.749657</td>\n",
       "      <td>0.836590</td>\n",
       "    </tr>\n",
       "    <tr>\n",
       "      <th>3</th>\n",
       "      <td>0.154885</td>\n",
       "      <td>0.349005</td>\n",
       "      <td>0.400578</td>\n",
       "      <td>0.190702</td>\n",
       "      <td>0.048009</td>\n",
       "    </tr>\n",
       "    <tr>\n",
       "      <th>4</th>\n",
       "      <td>0.150009</td>\n",
       "      <td>0.294122</td>\n",
       "      <td>0.888692</td>\n",
       "      <td>0.904423</td>\n",
       "      <td>0.418416</td>\n",
       "    </tr>\n",
       "    <tr>\n",
       "      <th>...</th>\n",
       "      <td>...</td>\n",
       "      <td>...</td>\n",
       "      <td>...</td>\n",
       "      <td>...</td>\n",
       "      <td>...</td>\n",
       "    </tr>\n",
       "    <tr>\n",
       "      <th>326</th>\n",
       "      <td>0.937868</td>\n",
       "      <td>0.258628</td>\n",
       "      <td>0.194955</td>\n",
       "      <td>0.143725</td>\n",
       "      <td>0.205851</td>\n",
       "    </tr>\n",
       "    <tr>\n",
       "      <th>327</th>\n",
       "      <td>0.539451</td>\n",
       "      <td>0.890633</td>\n",
       "      <td>0.820984</td>\n",
       "      <td>0.316883</td>\n",
       "      <td>0.067004</td>\n",
       "    </tr>\n",
       "    <tr>\n",
       "      <th>328</th>\n",
       "      <td>0.047982</td>\n",
       "      <td>0.442305</td>\n",
       "      <td>0.862192</td>\n",
       "      <td>0.151105</td>\n",
       "      <td>0.018986</td>\n",
       "    </tr>\n",
       "    <tr>\n",
       "      <th>329</th>\n",
       "      <td>0.890846</td>\n",
       "      <td>0.609025</td>\n",
       "      <td>0.648049</td>\n",
       "      <td>0.871640</td>\n",
       "      <td>0.323589</td>\n",
       "    </tr>\n",
       "    <tr>\n",
       "      <th>330</th>\n",
       "      <td>0.653165</td>\n",
       "      <td>0.683662</td>\n",
       "      <td>0.185325</td>\n",
       "      <td>0.506670</td>\n",
       "      <td>0.549307</td>\n",
       "    </tr>\n",
       "  </tbody>\n",
       "</table>\n",
       "<p>331 rows × 5 columns</p>\n",
       "</div>"
      ],
      "text/plain": [
       "            0         1         2         3         4\n",
       "0    0.938592  0.601570  0.111307  0.248837  0.371304\n",
       "1    0.181812  0.855285  0.501953  0.969116  0.396190\n",
       "2    0.388362  0.998774  0.980512  0.749657  0.836590\n",
       "3    0.154885  0.349005  0.400578  0.190702  0.048009\n",
       "4    0.150009  0.294122  0.888692  0.904423  0.418416\n",
       "..        ...       ...       ...       ...       ...\n",
       "326  0.937868  0.258628  0.194955  0.143725  0.205851\n",
       "327  0.539451  0.890633  0.820984  0.316883  0.067004\n",
       "328  0.047982  0.442305  0.862192  0.151105  0.018986\n",
       "329  0.890846  0.609025  0.648049  0.871640  0.323589\n",
       "330  0.653165  0.683662  0.185325  0.506670  0.549307\n",
       "\n",
       "[331 rows x 5 columns]"
      ]
     },
     "execution_count": 30,
     "metadata": {},
     "output_type": "execute_result"
    }
   ],
   "source": [
    "newdf.head(-3)"
   ]
  },
  {
   "cell_type": "code",
   "execution_count": 31,
   "metadata": {},
   "outputs": [
    {
     "data": {
      "text/html": [
       "<div>\n",
       "<style scoped>\n",
       "    .dataframe tbody tr th:only-of-type {\n",
       "        vertical-align: middle;\n",
       "    }\n",
       "\n",
       "    .dataframe tbody tr th {\n",
       "        vertical-align: top;\n",
       "    }\n",
       "\n",
       "    .dataframe thead th {\n",
       "        text-align: right;\n",
       "    }\n",
       "</style>\n",
       "<table border=\"1\" class=\"dataframe\">\n",
       "  <thead>\n",
       "    <tr style=\"text-align: right;\">\n",
       "      <th></th>\n",
       "      <th>0</th>\n",
       "      <th>1</th>\n",
       "      <th>2</th>\n",
       "      <th>3</th>\n",
       "      <th>4</th>\n",
       "    </tr>\n",
       "  </thead>\n",
       "  <tbody>\n",
       "    <tr>\n",
       "      <th>331</th>\n",
       "      <td>0.848165</td>\n",
       "      <td>0.895544</td>\n",
       "      <td>0.449027</td>\n",
       "      <td>0.230233</td>\n",
       "      <td>0.959972</td>\n",
       "    </tr>\n",
       "    <tr>\n",
       "      <th>332</th>\n",
       "      <td>0.523848</td>\n",
       "      <td>0.824551</td>\n",
       "      <td>0.772502</td>\n",
       "      <td>0.428748</td>\n",
       "      <td>0.029976</td>\n",
       "    </tr>\n",
       "    <tr>\n",
       "      <th>333</th>\n",
       "      <td>0.828796</td>\n",
       "      <td>0.028096</td>\n",
       "      <td>0.837717</td>\n",
       "      <td>0.154182</td>\n",
       "      <td>0.822582</td>\n",
       "    </tr>\n",
       "  </tbody>\n",
       "</table>\n",
       "</div>"
      ],
      "text/plain": [
       "            0         1         2         3         4\n",
       "331  0.848165  0.895544  0.449027  0.230233  0.959972\n",
       "332  0.523848  0.824551  0.772502  0.428748  0.029976\n",
       "333  0.828796  0.028096  0.837717  0.154182  0.822582"
      ]
     },
     "execution_count": 31,
     "metadata": {},
     "output_type": "execute_result"
    }
   ],
   "source": [
    "newdf.tail(3)"
   ]
  },
  {
   "cell_type": "code",
   "execution_count": 32,
   "metadata": {},
   "outputs": [
    {
     "data": {
      "text/html": [
       "<div>\n",
       "<style scoped>\n",
       "    .dataframe tbody tr th:only-of-type {\n",
       "        vertical-align: middle;\n",
       "    }\n",
       "\n",
       "    .dataframe tbody tr th {\n",
       "        vertical-align: top;\n",
       "    }\n",
       "\n",
       "    .dataframe thead th {\n",
       "        text-align: right;\n",
       "    }\n",
       "</style>\n",
       "<table border=\"1\" class=\"dataframe\">\n",
       "  <thead>\n",
       "    <tr style=\"text-align: right;\">\n",
       "      <th></th>\n",
       "      <th>0</th>\n",
       "      <th>1</th>\n",
       "      <th>2</th>\n",
       "      <th>3</th>\n",
       "      <th>4</th>\n",
       "    </tr>\n",
       "  </thead>\n",
       "  <tbody>\n",
       "    <tr>\n",
       "      <th>0</th>\n",
       "      <td>0.938592</td>\n",
       "      <td>0.601570</td>\n",
       "      <td>0.111307</td>\n",
       "      <td>0.248837</td>\n",
       "      <td>0.371304</td>\n",
       "    </tr>\n",
       "    <tr>\n",
       "      <th>1</th>\n",
       "      <td>0.181812</td>\n",
       "      <td>0.855285</td>\n",
       "      <td>0.501953</td>\n",
       "      <td>0.969116</td>\n",
       "      <td>0.396190</td>\n",
       "    </tr>\n",
       "    <tr>\n",
       "      <th>2</th>\n",
       "      <td>0.388362</td>\n",
       "      <td>0.998774</td>\n",
       "      <td>0.980512</td>\n",
       "      <td>0.749657</td>\n",
       "      <td>0.836590</td>\n",
       "    </tr>\n",
       "    <tr>\n",
       "      <th>3</th>\n",
       "      <td>0.154885</td>\n",
       "      <td>0.349005</td>\n",
       "      <td>0.400578</td>\n",
       "      <td>0.190702</td>\n",
       "      <td>0.048009</td>\n",
       "    </tr>\n",
       "    <tr>\n",
       "      <th>4</th>\n",
       "      <td>0.150009</td>\n",
       "      <td>0.294122</td>\n",
       "      <td>0.888692</td>\n",
       "      <td>0.904423</td>\n",
       "      <td>0.418416</td>\n",
       "    </tr>\n",
       "    <tr>\n",
       "      <th>...</th>\n",
       "      <td>...</td>\n",
       "      <td>...</td>\n",
       "      <td>...</td>\n",
       "      <td>...</td>\n",
       "      <td>...</td>\n",
       "    </tr>\n",
       "    <tr>\n",
       "      <th>329</th>\n",
       "      <td>0.890846</td>\n",
       "      <td>0.609025</td>\n",
       "      <td>0.648049</td>\n",
       "      <td>0.871640</td>\n",
       "      <td>0.323589</td>\n",
       "    </tr>\n",
       "    <tr>\n",
       "      <th>330</th>\n",
       "      <td>0.653165</td>\n",
       "      <td>0.683662</td>\n",
       "      <td>0.185325</td>\n",
       "      <td>0.506670</td>\n",
       "      <td>0.549307</td>\n",
       "    </tr>\n",
       "    <tr>\n",
       "      <th>331</th>\n",
       "      <td>0.848165</td>\n",
       "      <td>0.895544</td>\n",
       "      <td>0.449027</td>\n",
       "      <td>0.230233</td>\n",
       "      <td>0.959972</td>\n",
       "    </tr>\n",
       "    <tr>\n",
       "      <th>332</th>\n",
       "      <td>0.523848</td>\n",
       "      <td>0.824551</td>\n",
       "      <td>0.772502</td>\n",
       "      <td>0.428748</td>\n",
       "      <td>0.029976</td>\n",
       "    </tr>\n",
       "    <tr>\n",
       "      <th>333</th>\n",
       "      <td>0.828796</td>\n",
       "      <td>0.028096</td>\n",
       "      <td>0.837717</td>\n",
       "      <td>0.154182</td>\n",
       "      <td>0.822582</td>\n",
       "    </tr>\n",
       "  </tbody>\n",
       "</table>\n",
       "<p>334 rows × 5 columns</p>\n",
       "</div>"
      ],
      "text/plain": [
       "            0         1         2         3         4\n",
       "0    0.938592  0.601570  0.111307  0.248837  0.371304\n",
       "1    0.181812  0.855285  0.501953  0.969116  0.396190\n",
       "2    0.388362  0.998774  0.980512  0.749657  0.836590\n",
       "3    0.154885  0.349005  0.400578  0.190702  0.048009\n",
       "4    0.150009  0.294122  0.888692  0.904423  0.418416\n",
       "..        ...       ...       ...       ...       ...\n",
       "329  0.890846  0.609025  0.648049  0.871640  0.323589\n",
       "330  0.653165  0.683662  0.185325  0.506670  0.549307\n",
       "331  0.848165  0.895544  0.449027  0.230233  0.959972\n",
       "332  0.523848  0.824551  0.772502  0.428748  0.029976\n",
       "333  0.828796  0.028096  0.837717  0.154182  0.822582\n",
       "\n",
       "[334 rows x 5 columns]"
      ]
     },
     "execution_count": 32,
     "metadata": {},
     "output_type": "execute_result"
    }
   ],
   "source": [
    "newdf.sort_index(axis=0)"
   ]
  },
  {
   "cell_type": "code",
   "execution_count": 33,
   "metadata": {},
   "outputs": [
    {
     "data": {
      "text/html": [
       "<div>\n",
       "<style scoped>\n",
       "    .dataframe tbody tr th:only-of-type {\n",
       "        vertical-align: middle;\n",
       "    }\n",
       "\n",
       "    .dataframe tbody tr th {\n",
       "        vertical-align: top;\n",
       "    }\n",
       "\n",
       "    .dataframe thead th {\n",
       "        text-align: right;\n",
       "    }\n",
       "</style>\n",
       "<table border=\"1\" class=\"dataframe\">\n",
       "  <thead>\n",
       "    <tr style=\"text-align: right;\">\n",
       "      <th></th>\n",
       "      <th>1</th>\n",
       "      <th>2</th>\n",
       "      <th>3</th>\n",
       "      <th>4</th>\n",
       "    </tr>\n",
       "  </thead>\n",
       "  <tbody>\n",
       "    <tr>\n",
       "      <th>0</th>\n",
       "      <td>0.601570</td>\n",
       "      <td>0.111307</td>\n",
       "      <td>0.248837</td>\n",
       "      <td>0.371304</td>\n",
       "    </tr>\n",
       "    <tr>\n",
       "      <th>1</th>\n",
       "      <td>0.855285</td>\n",
       "      <td>0.501953</td>\n",
       "      <td>0.969116</td>\n",
       "      <td>0.396190</td>\n",
       "    </tr>\n",
       "    <tr>\n",
       "      <th>2</th>\n",
       "      <td>0.998774</td>\n",
       "      <td>0.980512</td>\n",
       "      <td>0.749657</td>\n",
       "      <td>0.836590</td>\n",
       "    </tr>\n",
       "    <tr>\n",
       "      <th>3</th>\n",
       "      <td>0.349005</td>\n",
       "      <td>0.400578</td>\n",
       "      <td>0.190702</td>\n",
       "      <td>0.048009</td>\n",
       "    </tr>\n",
       "    <tr>\n",
       "      <th>4</th>\n",
       "      <td>0.294122</td>\n",
       "      <td>0.888692</td>\n",
       "      <td>0.904423</td>\n",
       "      <td>0.418416</td>\n",
       "    </tr>\n",
       "    <tr>\n",
       "      <th>...</th>\n",
       "      <td>...</td>\n",
       "      <td>...</td>\n",
       "      <td>...</td>\n",
       "      <td>...</td>\n",
       "    </tr>\n",
       "    <tr>\n",
       "      <th>329</th>\n",
       "      <td>0.609025</td>\n",
       "      <td>0.648049</td>\n",
       "      <td>0.871640</td>\n",
       "      <td>0.323589</td>\n",
       "    </tr>\n",
       "    <tr>\n",
       "      <th>330</th>\n",
       "      <td>0.683662</td>\n",
       "      <td>0.185325</td>\n",
       "      <td>0.506670</td>\n",
       "      <td>0.549307</td>\n",
       "    </tr>\n",
       "    <tr>\n",
       "      <th>331</th>\n",
       "      <td>0.895544</td>\n",
       "      <td>0.449027</td>\n",
       "      <td>0.230233</td>\n",
       "      <td>0.959972</td>\n",
       "    </tr>\n",
       "    <tr>\n",
       "      <th>332</th>\n",
       "      <td>0.824551</td>\n",
       "      <td>0.772502</td>\n",
       "      <td>0.428748</td>\n",
       "      <td>0.029976</td>\n",
       "    </tr>\n",
       "    <tr>\n",
       "      <th>333</th>\n",
       "      <td>0.028096</td>\n",
       "      <td>0.837717</td>\n",
       "      <td>0.154182</td>\n",
       "      <td>0.822582</td>\n",
       "    </tr>\n",
       "  </tbody>\n",
       "</table>\n",
       "<p>334 rows × 4 columns</p>\n",
       "</div>"
      ],
      "text/plain": [
       "            1         2         3         4\n",
       "0    0.601570  0.111307  0.248837  0.371304\n",
       "1    0.855285  0.501953  0.969116  0.396190\n",
       "2    0.998774  0.980512  0.749657  0.836590\n",
       "3    0.349005  0.400578  0.190702  0.048009\n",
       "4    0.294122  0.888692  0.904423  0.418416\n",
       "..        ...       ...       ...       ...\n",
       "329  0.609025  0.648049  0.871640  0.323589\n",
       "330  0.683662  0.185325  0.506670  0.549307\n",
       "331  0.895544  0.449027  0.230233  0.959972\n",
       "332  0.824551  0.772502  0.428748  0.029976\n",
       "333  0.028096  0.837717  0.154182  0.822582\n",
       "\n",
       "[334 rows x 4 columns]"
      ]
     },
     "execution_count": 33,
     "metadata": {},
     "output_type": "execute_result"
    }
   ],
   "source": [
    "newdf.drop(0,axis=1)"
   ]
  },
  {
   "cell_type": "code",
   "execution_count": 34,
   "metadata": {},
   "outputs": [],
   "source": [
    "newdf.dropna(inplace=True)"
   ]
  }
 ],
 "metadata": {
  "kernelspec": {
   "display_name": "Python 3",
   "language": "python",
   "name": "python3"
  },
  "language_info": {
   "codemirror_mode": {
    "name": "ipython",
    "version": 3
   },
   "file_extension": ".py",
   "mimetype": "text/x-python",
   "name": "python",
   "nbconvert_exporter": "python",
   "pygments_lexer": "ipython3",
   "version": "3.12.1"
  }
 },
 "nbformat": 4,
 "nbformat_minor": 2
}
